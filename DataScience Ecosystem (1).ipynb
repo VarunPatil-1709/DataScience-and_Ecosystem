{
 "cells": [
  {
   "cell_type": "markdown",
   "id": "b4599c83",
   "metadata": {},
   "source": [
    "# Data Science And Ecosystem "
   ]
  },
  {
   "cell_type": "markdown",
   "id": "1e7196cc",
   "metadata": {},
   "source": [
    "In These notebook we summerized the data science tools and Ecosystem."
   ]
  },
  {
   "cell_type": "markdown",
   "id": "c673c574",
   "metadata": {},
   "source": [
    "There is some laungueges we are use in the Data Science:\n",
    "1.Python\n",
    "2.R\n",
    "3.SQL\n",
    "4.Java\n",
    "5.C++,etc;"
   ]
  },
  {
   "cell_type": "markdown",
   "id": "70685400",
   "metadata": {},
   "source": [
    "Some of the commonly used libraries used by Data Scientist :\n",
    "1.Tensorflow\n",
    "2.Pandas\n",
    "3.Numpy\n",
    "4.Seaborn\n",
    "5.Scikit-Learn\n",
    "6.PyTorch\n",
    "7.Matplotlib\n",
    "8.Keras,etc;"
   ]
  },
  {
   "cell_type": "markdown",
   "id": "921048f3",
   "metadata": {},
   "source": [
    "|Data Science Tools|\n",
    "|---|\n",
    "|SAS|\n",
    "|Apache Hadoop|\n",
    "|TensorFlow|"
   ]
  },
  {
   "cell_type": "markdown",
   "id": "0a89269a",
   "metadata": {},
   "source": [
    "### Examples of evaluating arithmatic expression :-"
   ]
  },
  {
   "cell_type": "code",
   "execution_count": 3,
   "id": "7f90c5fc",
   "metadata": {},
   "outputs": [
    {
     "data": {
      "text/plain": [
       "17"
      ]
     },
     "execution_count": 3,
     "metadata": {},
     "output_type": "execute_result"
    }
   ],
   "source": [
    "#There is the example to multiply and add numbers.\n",
    "(3*4)+5"
   ]
  },
  {
   "cell_type": "code",
   "execution_count": 4,
   "id": "583eaea1",
   "metadata": {},
   "outputs": [
    {
     "data": {
      "text/plain": [
       "3.3333333333333335"
      ]
     },
     "execution_count": 4,
     "metadata": {},
     "output_type": "execute_result"
    }
   ],
   "source": [
    "#Example to convert 200 minutes to hours by dividing 60\n",
    "200/60\n"
   ]
  },
  {
   "cell_type": "markdown",
   "id": "13268c1a",
   "metadata": {},
   "source": [
    "__Objectives__\n",
    "*List popular languages of Data Science.\n",
    "*List popular libraries for Data Science.\n",
    "*List popular tools for Data Science.\n",
    "*How to provide a comment in the cell?"
   ]
  },
  {
   "cell_type": "markdown",
   "id": "8c57aef9",
   "metadata": {},
   "source": [
    "## Author:-\n",
    "    Varun Patil"
   ]
  }
 ],
 "metadata": {
  "kernelspec": {
   "display_name": "Python 3 (ipykernel)",
   "language": "python",
   "name": "python3"
  },
  "language_info": {
   "codemirror_mode": {
    "name": "ipython",
    "version": 3
   },
   "file_extension": ".py",
   "mimetype": "text/x-python",
   "name": "python",
   "nbconvert_exporter": "python",
   "pygments_lexer": "ipython3",
   "version": "3.11.2"
  }
 },
 "nbformat": 4,
 "nbformat_minor": 5
}
